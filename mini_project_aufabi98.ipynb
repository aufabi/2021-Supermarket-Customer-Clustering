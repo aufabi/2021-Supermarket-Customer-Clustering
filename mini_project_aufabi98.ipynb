{
 "cells": [
  {
   "cell_type": "markdown",
   "metadata": {
    "id": "88N7J1l0-xa0"
   },
   "source": [
    "Tugas ini berupa mini project yang diselesaikan diakhir pertemuan bulan pertama. Tugas disusun sesuai dengan materi yang diberikan tiap harinya di pekan 4. "
   ]
  },
  {
   "cell_type": "markdown",
   "metadata": {
    "id": "IRNtERY8FNe1"
   },
   "source": [
    "# Dataset\n",
    "\n",
    "silahkan unduh dataset berikut untuk mengerjakan tugas pekan 4:\n",
    "\n",
    "[pelanggan_supermarket.csv](https://drive.google.com/uc?export=download&id=1jaxCbZ4fcCneeVCEN-yuxWE0RyX25tbQ)"
   ]
  },
  {
   "cell_type": "markdown",
   "metadata": {
    "id": "Dk_lP4YPF6_i"
   },
   "source": [
    "\n",
    "\n",
    "---\n",
    "\n",
    "\n",
    "\n",
    "---\n",
    "\n",
    "\n",
    "\n",
    "---\n",
    "\n"
   ]
  },
  {
   "cell_type": "code",
   "execution_count": 1,
   "metadata": {
    "id": "lhN_Ue2qF8nN"
   },
   "outputs": [],
   "source": [
    "import pandas as pd\n",
    "import numpy as np\n",
    "import matplotlib.pyplot as plt\n",
    "import seaborn as sns\n",
    "import warnings\n",
    "warnings.filterwarnings('ignore')"
   ]
  },
  {
   "cell_type": "code",
   "execution_count": 2,
   "metadata": {
    "colab": {
     "base_uri": "https://localhost:8080/",
     "height": 424
    },
    "id": "M1tQcd_ILZXq",
    "outputId": "2aea46a6-3889-4d13-8841-be18f708cac4"
   },
   "outputs": [
    {
     "data": {
      "text/html": [
       "<div>\n",
       "<style scoped>\n",
       "    .dataframe tbody tr th:only-of-type {\n",
       "        vertical-align: middle;\n",
       "    }\n",
       "\n",
       "    .dataframe tbody tr th {\n",
       "        vertical-align: top;\n",
       "    }\n",
       "\n",
       "    .dataframe thead th {\n",
       "        text-align: right;\n",
       "    }\n",
       "</style>\n",
       "<table border=\"1\" class=\"dataframe\">\n",
       "  <thead>\n",
       "    <tr style=\"text-align: right;\">\n",
       "      <th></th>\n",
       "      <th>ID_pelanggan</th>\n",
       "      <th>Jenis Kelamin</th>\n",
       "      <th>Umur</th>\n",
       "      <th>Pendapatan pertahun (juta)</th>\n",
       "      <th>Skor Belanja (1-100)</th>\n",
       "    </tr>\n",
       "  </thead>\n",
       "  <tbody>\n",
       "    <tr>\n",
       "      <th>0</th>\n",
       "      <td>1</td>\n",
       "      <td>Laki-laki</td>\n",
       "      <td>19.0</td>\n",
       "      <td>15</td>\n",
       "      <td>39.0</td>\n",
       "    </tr>\n",
       "    <tr>\n",
       "      <th>1</th>\n",
       "      <td>2</td>\n",
       "      <td>Laki-laki</td>\n",
       "      <td>21.0</td>\n",
       "      <td>15</td>\n",
       "      <td>81.0</td>\n",
       "    </tr>\n",
       "    <tr>\n",
       "      <th>2</th>\n",
       "      <td>3</td>\n",
       "      <td>Perempuan</td>\n",
       "      <td>20.0</td>\n",
       "      <td>16</td>\n",
       "      <td>6.0</td>\n",
       "    </tr>\n",
       "    <tr>\n",
       "      <th>3</th>\n",
       "      <td>4</td>\n",
       "      <td>Perempuan</td>\n",
       "      <td>23.0</td>\n",
       "      <td>16</td>\n",
       "      <td>77.0</td>\n",
       "    </tr>\n",
       "    <tr>\n",
       "      <th>4</th>\n",
       "      <td>5</td>\n",
       "      <td>Perempuan</td>\n",
       "      <td>31.0</td>\n",
       "      <td>17</td>\n",
       "      <td>40.0</td>\n",
       "    </tr>\n",
       "    <tr>\n",
       "      <th>...</th>\n",
       "      <td>...</td>\n",
       "      <td>...</td>\n",
       "      <td>...</td>\n",
       "      <td>...</td>\n",
       "      <td>...</td>\n",
       "    </tr>\n",
       "    <tr>\n",
       "      <th>245</th>\n",
       "      <td>246</td>\n",
       "      <td>Laki-laki</td>\n",
       "      <td>59.0</td>\n",
       "      <td>93</td>\n",
       "      <td>14.0</td>\n",
       "    </tr>\n",
       "    <tr>\n",
       "      <th>246</th>\n",
       "      <td>247</td>\n",
       "      <td>Laki-laki</td>\n",
       "      <td>35.0</td>\n",
       "      <td>93</td>\n",
       "      <td>90.0</td>\n",
       "    </tr>\n",
       "    <tr>\n",
       "      <th>247</th>\n",
       "      <td>248</td>\n",
       "      <td>Perempuan</td>\n",
       "      <td>37.0</td>\n",
       "      <td>97</td>\n",
       "      <td>32.0</td>\n",
       "    </tr>\n",
       "    <tr>\n",
       "      <th>248</th>\n",
       "      <td>249</td>\n",
       "      <td>Perempuan</td>\n",
       "      <td>32.0</td>\n",
       "      <td>97</td>\n",
       "      <td>86.0</td>\n",
       "    </tr>\n",
       "    <tr>\n",
       "      <th>249</th>\n",
       "      <td>250</td>\n",
       "      <td>Laki-laki</td>\n",
       "      <td>120.0</td>\n",
       "      <td>98</td>\n",
       "      <td>15.0</td>\n",
       "    </tr>\n",
       "  </tbody>\n",
       "</table>\n",
       "<p>250 rows × 5 columns</p>\n",
       "</div>"
      ],
      "text/plain": [
       "     ID_pelanggan Jenis Kelamin   Umur  Pendapatan pertahun (juta)  \\\n",
       "0               1     Laki-laki   19.0                          15   \n",
       "1               2     Laki-laki   21.0                          15   \n",
       "2               3     Perempuan   20.0                          16   \n",
       "3               4     Perempuan   23.0                          16   \n",
       "4               5     Perempuan   31.0                          17   \n",
       "..            ...           ...    ...                         ...   \n",
       "245           246     Laki-laki   59.0                          93   \n",
       "246           247     Laki-laki   35.0                          93   \n",
       "247           248     Perempuan   37.0                          97   \n",
       "248           249     Perempuan   32.0                          97   \n",
       "249           250     Laki-laki  120.0                          98   \n",
       "\n",
       "     Skor Belanja (1-100)  \n",
       "0                    39.0  \n",
       "1                    81.0  \n",
       "2                     6.0  \n",
       "3                    77.0  \n",
       "4                    40.0  \n",
       "..                    ...  \n",
       "245                  14.0  \n",
       "246                  90.0  \n",
       "247                  32.0  \n",
       "248                  86.0  \n",
       "249                  15.0  \n",
       "\n",
       "[250 rows x 5 columns]"
      ]
     },
     "execution_count": 2,
     "metadata": {},
     "output_type": "execute_result"
    }
   ],
   "source": [
    "import pandas as pd\n",
    "\n",
    "df = pd.read_csv('pelanggan_supermarket.csv')\n",
    "df"
   ]
  },
  {
   "cell_type": "markdown",
   "metadata": {
    "id": "aklja_xv_MS9"
   },
   "source": [
    "\n",
    "\n",
    "---\n",
    "\n",
    "\n",
    "\n",
    "---\n",
    "\n",
    "\n",
    "\n",
    "---\n",
    "\n"
   ]
  },
  {
   "cell_type": "markdown",
   "metadata": {
    "id": "zGrxp0w2GFOs"
   },
   "source": [
    "# Soal 1. Statistika Deskriptif\n",
    "\n",
    "lakukan eksplorasi data dengan menggunakan statistika deskriptif. Gunakan pandas untuk mendapatkan summary statistics, dan analisa hasil yang ditampilkan."
   ]
  },
  {
   "cell_type": "code",
   "execution_count": 3,
   "metadata": {
    "id": "DpV8-yksGpIt"
   },
   "outputs": [
    {
     "data": {
      "text/html": [
       "<div>\n",
       "<style scoped>\n",
       "    .dataframe tbody tr th:only-of-type {\n",
       "        vertical-align: middle;\n",
       "    }\n",
       "\n",
       "    .dataframe tbody tr th {\n",
       "        vertical-align: top;\n",
       "    }\n",
       "\n",
       "    .dataframe thead th {\n",
       "        text-align: right;\n",
       "    }\n",
       "</style>\n",
       "<table border=\"1\" class=\"dataframe\">\n",
       "  <thead>\n",
       "    <tr style=\"text-align: right;\">\n",
       "      <th></th>\n",
       "      <th>ID_pelanggan</th>\n",
       "      <th>Umur</th>\n",
       "      <th>Pendapatan pertahun (juta)</th>\n",
       "      <th>Skor Belanja (1-100)</th>\n",
       "    </tr>\n",
       "  </thead>\n",
       "  <tbody>\n",
       "    <tr>\n",
       "      <th>count</th>\n",
       "      <td>250.000000</td>\n",
       "      <td>245.000000</td>\n",
       "      <td>250.000000</td>\n",
       "      <td>246.000000</td>\n",
       "    </tr>\n",
       "    <tr>\n",
       "      <th>mean</th>\n",
       "      <td>125.500000</td>\n",
       "      <td>38.730612</td>\n",
       "      <td>64.736000</td>\n",
       "      <td>50.325203</td>\n",
       "    </tr>\n",
       "    <tr>\n",
       "      <th>std</th>\n",
       "      <td>72.312977</td>\n",
       "      <td>14.328726</td>\n",
       "      <td>25.112324</td>\n",
       "      <td>28.668121</td>\n",
       "    </tr>\n",
       "    <tr>\n",
       "      <th>min</th>\n",
       "      <td>1.000000</td>\n",
       "      <td>18.000000</td>\n",
       "      <td>15.000000</td>\n",
       "      <td>3.000000</td>\n",
       "    </tr>\n",
       "    <tr>\n",
       "      <th>25%</th>\n",
       "      <td>63.250000</td>\n",
       "      <td>29.000000</td>\n",
       "      <td>47.000000</td>\n",
       "      <td>26.250000</td>\n",
       "    </tr>\n",
       "    <tr>\n",
       "      <th>50%</th>\n",
       "      <td>125.500000</td>\n",
       "      <td>36.000000</td>\n",
       "      <td>70.000000</td>\n",
       "      <td>50.000000</td>\n",
       "    </tr>\n",
       "    <tr>\n",
       "      <th>75%</th>\n",
       "      <td>187.750000</td>\n",
       "      <td>48.000000</td>\n",
       "      <td>78.750000</td>\n",
       "      <td>74.750000</td>\n",
       "    </tr>\n",
       "    <tr>\n",
       "      <th>max</th>\n",
       "      <td>250.000000</td>\n",
       "      <td>120.000000</td>\n",
       "      <td>137.000000</td>\n",
       "      <td>150.000000</td>\n",
       "    </tr>\n",
       "  </tbody>\n",
       "</table>\n",
       "</div>"
      ],
      "text/plain": [
       "       ID_pelanggan        Umur  Pendapatan pertahun (juta)  \\\n",
       "count    250.000000  245.000000                  250.000000   \n",
       "mean     125.500000   38.730612                   64.736000   \n",
       "std       72.312977   14.328726                   25.112324   \n",
       "min        1.000000   18.000000                   15.000000   \n",
       "25%       63.250000   29.000000                   47.000000   \n",
       "50%      125.500000   36.000000                   70.000000   \n",
       "75%      187.750000   48.000000                   78.750000   \n",
       "max      250.000000  120.000000                  137.000000   \n",
       "\n",
       "       Skor Belanja (1-100)  \n",
       "count            246.000000  \n",
       "mean              50.325203  \n",
       "std               28.668121  \n",
       "min                3.000000  \n",
       "25%               26.250000  \n",
       "50%               50.000000  \n",
       "75%               74.750000  \n",
       "max              150.000000  "
      ]
     },
     "execution_count": 3,
     "metadata": {},
     "output_type": "execute_result"
    }
   ],
   "source": [
    "df.describe()"
   ]
  },
  {
   "cell_type": "markdown",
   "metadata": {
    "id": "ENATFBsjU6Me"
   },
   "source": [
    "**Expected output**\n",
    "\n",
    "![](https://drive.google.com/uc?id=1-5_d0Ey1lWMXj0d8ABimuPqqTz-h-8mx)"
   ]
  },
  {
   "cell_type": "markdown",
   "metadata": {
    "id": "V1_Jl-7-Zydi"
   },
   "source": [
    "Give your analysis:"
   ]
  },
  {
   "cell_type": "markdown",
   "metadata": {
    "id": "po0Ba28dZ3h2"
   },
   "source": [
    "Dari data yang diberikan diketahui bahwa ada 250 data. Sedangkan pada kolom umur dan skor belanja tidak mencapai 250. Artinya ada beberapa data yang kosong pada dua kolom tersebut. Rata - rata usia pengunjung supermarket tersebut adalah 38 tahun sedangkan usia termuda adalah 18 tahun dan usia tertua adalah 120 tahun. Untuk pendapatan dari supermarket rata - rata adalah 64.7 juta dengan nilai paling kecil adalah 15 juta dan paling besar adalah 137 juta. Umur dan pendapatan pertahun memiliki nilai simpangan terjauh atau standar deviasi masing - masing 14.3 dan 25.1 juta."
   ]
  },
  {
   "cell_type": "markdown",
   "metadata": {
    "id": "keRLYMjXHGup"
   },
   "source": [
    "\n",
    "\n",
    "---\n",
    "\n",
    "\n",
    "\n",
    "---\n",
    "\n",
    "\n",
    "\n",
    "---\n",
    "\n"
   ]
  },
  {
   "cell_type": "markdown",
   "metadata": {
    "id": "gqqEXm2yynSB"
   },
   "source": [
    "# Soal 2. Handling missing value\n",
    "\n",
    "Jika dilihat dari summary statistik terlihat dataset memiliki nilai missing. Hitunglah jumlah missing value menggunakan methode .isnull(). \n",
    "\n",
    "Isi nilai nan dengan nilai sebelumnya di row tersebut. gunakan method .fillna() dengan argument method bernilai 'ffill', baca dokumentasi https://pandas.pydata.org/pandas-docs/stable/reference/api/pandas.DataFrame.fillna.html"
   ]
  },
  {
   "cell_type": "code",
   "execution_count": 4,
   "metadata": {
    "id": "0-czR7PmYyfb"
   },
   "outputs": [
    {
     "data": {
      "text/plain": [
       "ID_pelanggan                  0\n",
       "Jenis Kelamin                 0\n",
       "Umur                          5\n",
       "Pendapatan pertahun (juta)    0\n",
       "Skor Belanja (1-100)          4\n",
       "dtype: int64"
      ]
     },
     "execution_count": 4,
     "metadata": {},
     "output_type": "execute_result"
    }
   ],
   "source": [
    "df.isnull().sum()"
   ]
  },
  {
   "cell_type": "code",
   "execution_count": 5,
   "metadata": {},
   "outputs": [
    {
     "data": {
      "text/html": [
       "<div>\n",
       "<style scoped>\n",
       "    .dataframe tbody tr th:only-of-type {\n",
       "        vertical-align: middle;\n",
       "    }\n",
       "\n",
       "    .dataframe tbody tr th {\n",
       "        vertical-align: top;\n",
       "    }\n",
       "\n",
       "    .dataframe thead th {\n",
       "        text-align: right;\n",
       "    }\n",
       "</style>\n",
       "<table border=\"1\" class=\"dataframe\">\n",
       "  <thead>\n",
       "    <tr style=\"text-align: right;\">\n",
       "      <th></th>\n",
       "      <th>ID_pelanggan</th>\n",
       "      <th>Jenis Kelamin</th>\n",
       "      <th>Umur</th>\n",
       "      <th>Pendapatan pertahun (juta)</th>\n",
       "      <th>Skor Belanja (1-100)</th>\n",
       "    </tr>\n",
       "  </thead>\n",
       "  <tbody>\n",
       "    <tr>\n",
       "      <th>0</th>\n",
       "      <td>1</td>\n",
       "      <td>Laki-laki</td>\n",
       "      <td>19.0</td>\n",
       "      <td>15</td>\n",
       "      <td>39.0</td>\n",
       "    </tr>\n",
       "    <tr>\n",
       "      <th>1</th>\n",
       "      <td>2</td>\n",
       "      <td>Laki-laki</td>\n",
       "      <td>21.0</td>\n",
       "      <td>15</td>\n",
       "      <td>81.0</td>\n",
       "    </tr>\n",
       "    <tr>\n",
       "      <th>2</th>\n",
       "      <td>3</td>\n",
       "      <td>Perempuan</td>\n",
       "      <td>20.0</td>\n",
       "      <td>16</td>\n",
       "      <td>6.0</td>\n",
       "    </tr>\n",
       "    <tr>\n",
       "      <th>3</th>\n",
       "      <td>4</td>\n",
       "      <td>Perempuan</td>\n",
       "      <td>23.0</td>\n",
       "      <td>16</td>\n",
       "      <td>77.0</td>\n",
       "    </tr>\n",
       "    <tr>\n",
       "      <th>4</th>\n",
       "      <td>5</td>\n",
       "      <td>Perempuan</td>\n",
       "      <td>31.0</td>\n",
       "      <td>17</td>\n",
       "      <td>40.0</td>\n",
       "    </tr>\n",
       "    <tr>\n",
       "      <th>...</th>\n",
       "      <td>...</td>\n",
       "      <td>...</td>\n",
       "      <td>...</td>\n",
       "      <td>...</td>\n",
       "      <td>...</td>\n",
       "    </tr>\n",
       "    <tr>\n",
       "      <th>245</th>\n",
       "      <td>246</td>\n",
       "      <td>Laki-laki</td>\n",
       "      <td>59.0</td>\n",
       "      <td>93</td>\n",
       "      <td>14.0</td>\n",
       "    </tr>\n",
       "    <tr>\n",
       "      <th>246</th>\n",
       "      <td>247</td>\n",
       "      <td>Laki-laki</td>\n",
       "      <td>35.0</td>\n",
       "      <td>93</td>\n",
       "      <td>90.0</td>\n",
       "    </tr>\n",
       "    <tr>\n",
       "      <th>247</th>\n",
       "      <td>248</td>\n",
       "      <td>Perempuan</td>\n",
       "      <td>37.0</td>\n",
       "      <td>97</td>\n",
       "      <td>32.0</td>\n",
       "    </tr>\n",
       "    <tr>\n",
       "      <th>248</th>\n",
       "      <td>249</td>\n",
       "      <td>Perempuan</td>\n",
       "      <td>32.0</td>\n",
       "      <td>97</td>\n",
       "      <td>86.0</td>\n",
       "    </tr>\n",
       "    <tr>\n",
       "      <th>249</th>\n",
       "      <td>250</td>\n",
       "      <td>Laki-laki</td>\n",
       "      <td>120.0</td>\n",
       "      <td>98</td>\n",
       "      <td>15.0</td>\n",
       "    </tr>\n",
       "  </tbody>\n",
       "</table>\n",
       "<p>250 rows × 5 columns</p>\n",
       "</div>"
      ],
      "text/plain": [
       "     ID_pelanggan Jenis Kelamin   Umur  Pendapatan pertahun (juta)  \\\n",
       "0               1     Laki-laki   19.0                          15   \n",
       "1               2     Laki-laki   21.0                          15   \n",
       "2               3     Perempuan   20.0                          16   \n",
       "3               4     Perempuan   23.0                          16   \n",
       "4               5     Perempuan   31.0                          17   \n",
       "..            ...           ...    ...                         ...   \n",
       "245           246     Laki-laki   59.0                          93   \n",
       "246           247     Laki-laki   35.0                          93   \n",
       "247           248     Perempuan   37.0                          97   \n",
       "248           249     Perempuan   32.0                          97   \n",
       "249           250     Laki-laki  120.0                          98   \n",
       "\n",
       "     Skor Belanja (1-100)  \n",
       "0                    39.0  \n",
       "1                    81.0  \n",
       "2                     6.0  \n",
       "3                    77.0  \n",
       "4                    40.0  \n",
       "..                    ...  \n",
       "245                  14.0  \n",
       "246                  90.0  \n",
       "247                  32.0  \n",
       "248                  86.0  \n",
       "249                  15.0  \n",
       "\n",
       "[250 rows x 5 columns]"
      ]
     },
     "execution_count": 5,
     "metadata": {},
     "output_type": "execute_result"
    }
   ],
   "source": [
    "df.fillna(method=\"ffill\", inplace=True)\n",
    "df"
   ]
  },
  {
   "cell_type": "code",
   "execution_count": 6,
   "metadata": {},
   "outputs": [
    {
     "data": {
      "text/plain": [
       "ID_pelanggan                  0\n",
       "Jenis Kelamin                 0\n",
       "Umur                          0\n",
       "Pendapatan pertahun (juta)    0\n",
       "Skor Belanja (1-100)          0\n",
       "dtype: int64"
      ]
     },
     "execution_count": 6,
     "metadata": {},
     "output_type": "execute_result"
    }
   ],
   "source": [
    "df.isnull().sum()"
   ]
  },
  {
   "cell_type": "markdown",
   "metadata": {
    "id": "sy1o6Lhs_QJy"
   },
   "source": [
    "\n",
    "\n",
    "---\n",
    "\n",
    "\n",
    "\n",
    "---\n",
    "\n",
    "\n",
    "\n",
    "---\n",
    "\n"
   ]
  },
  {
   "cell_type": "markdown",
   "metadata": {
    "id": "0ch4lp680ZNj"
   },
   "source": [
    "# Soal 3. Handling outlier\n",
    "\n",
    "1. Apakah data set memiliki nilai pencilan untuk setiap kolom? periksalah dengan melakukan visualisasi menggunakan boxplot.\n",
    "2. Handling outlier tersebut dengan menggunakan teknik trimming / removing outliers (menggunakan teknik IQR)\n",
    "3. simpan data hasil handling outlier ke dalam variabel df2\n",
    "4. Teknik ini akan menghasilkan nilai missing pada nilai outlier yang telah dihapus, maka hapuslah data missing tersebut dengan menggunakan method .dropna()"
   ]
  },
  {
   "cell_type": "code",
   "execution_count": 7,
   "metadata": {
    "id": "S-35U36ZY2r3"
   },
   "outputs": [
    {
     "data": {
      "image/png": "[encoded data removed]",
      "text/plain": [
       "<Figure size 1080x432 with 4 Axes>"
      ]
     },
     "metadata": {
      "needs_background": "light"
     },
     "output_type": "display_data"
    }
   ],
   "source": [
    "fig, ax = plt.subplots(nrows = 2, ncols = 3, figsize = (15,6))\n",
    "sns.boxplot(ax = ax[0][0], x = df['ID_pelanggan'])\n",
    "sns.boxplot(ax = ax[0][1], x = df['Umur'])\n",
    "sns.boxplot(ax = ax[0][2], x = df['Pendapatan pertahun (juta)'])\n",
    "sns.boxplot(ax = ax[1][0], x = df['Skor Belanja (1-100)'])\n",
    "fig.delaxes(ax[1][1])\n",
    "fig.delaxes(ax[1][2])\n",
    "fig.tight_layout()\n",
    "plt.show()"
   ]
  },
  {
   "cell_type": "markdown",
   "metadata": {
    "id": "71J4kYuHVkbn"
   },
   "source": [
    "**Expected output**\n",
    "\n",
    "Melihat adanya pencilan menggunakan Boxplot\n",
    "\n",
    "![](https://drive.google.com/uc?id=1ettD4G8xBMCYcMUVt88kn5k_yCufgdyf)"
   ]
  },
  {
   "cell_type": "code",
   "execution_count": 8,
   "metadata": {},
   "outputs": [
    {
     "name": "stdout",
     "output_type": "stream",
     "text": [
      "Data sebelum dihilangkan outliersnya\n"
     ]
    },
    {
     "data": {
      "text/html": [
       "<div>\n",
       "<style scoped>\n",
       "    .dataframe tbody tr th:only-of-type {\n",
       "        vertical-align: middle;\n",
       "    }\n",
       "\n",
       "    .dataframe tbody tr th {\n",
       "        vertical-align: top;\n",
       "    }\n",
       "\n",
       "    .dataframe thead th {\n",
       "        text-align: right;\n",
       "    }\n",
       "</style>\n",
       "<table border=\"1\" class=\"dataframe\">\n",
       "  <thead>\n",
       "    <tr style=\"text-align: right;\">\n",
       "      <th></th>\n",
       "      <th>ID_pelanggan</th>\n",
       "      <th>Jenis Kelamin</th>\n",
       "      <th>Umur</th>\n",
       "      <th>Pendapatan pertahun (juta)</th>\n",
       "      <th>Skor Belanja (1-100)</th>\n",
       "    </tr>\n",
       "  </thead>\n",
       "  <tbody>\n",
       "    <tr>\n",
       "      <th>0</th>\n",
       "      <td>1</td>\n",
       "      <td>Laki-laki</td>\n",
       "      <td>19.0</td>\n",
       "      <td>15</td>\n",
       "      <td>39.0</td>\n",
       "    </tr>\n",
       "    <tr>\n",
       "      <th>1</th>\n",
       "      <td>2</td>\n",
       "      <td>Laki-laki</td>\n",
       "      <td>21.0</td>\n",
       "      <td>15</td>\n",
       "      <td>81.0</td>\n",
       "    </tr>\n",
       "    <tr>\n",
       "      <th>2</th>\n",
       "      <td>3</td>\n",
       "      <td>Perempuan</td>\n",
       "      <td>20.0</td>\n",
       "      <td>16</td>\n",
       "      <td>6.0</td>\n",
       "    </tr>\n",
       "    <tr>\n",
       "      <th>3</th>\n",
       "      <td>4</td>\n",
       "      <td>Perempuan</td>\n",
       "      <td>23.0</td>\n",
       "      <td>16</td>\n",
       "      <td>77.0</td>\n",
       "    </tr>\n",
       "    <tr>\n",
       "      <th>4</th>\n",
       "      <td>5</td>\n",
       "      <td>Perempuan</td>\n",
       "      <td>31.0</td>\n",
       "      <td>17</td>\n",
       "      <td>40.0</td>\n",
       "    </tr>\n",
       "    <tr>\n",
       "      <th>...</th>\n",
       "      <td>...</td>\n",
       "      <td>...</td>\n",
       "      <td>...</td>\n",
       "      <td>...</td>\n",
       "      <td>...</td>\n",
       "    </tr>\n",
       "    <tr>\n",
       "      <th>245</th>\n",
       "      <td>246</td>\n",
       "      <td>Laki-laki</td>\n",
       "      <td>59.0</td>\n",
       "      <td>93</td>\n",
       "      <td>14.0</td>\n",
       "    </tr>\n",
       "    <tr>\n",
       "      <th>246</th>\n",
       "      <td>247</td>\n",
       "      <td>Laki-laki</td>\n",
       "      <td>35.0</td>\n",
       "      <td>93</td>\n",
       "      <td>90.0</td>\n",
       "    </tr>\n",
       "    <tr>\n",
       "      <th>247</th>\n",
       "      <td>248</td>\n",
       "      <td>Perempuan</td>\n",
       "      <td>37.0</td>\n",
       "      <td>97</td>\n",
       "      <td>32.0</td>\n",
       "    </tr>\n",
       "    <tr>\n",
       "      <th>248</th>\n",
       "      <td>249</td>\n",
       "      <td>Perempuan</td>\n",
       "      <td>32.0</td>\n",
       "      <td>97</td>\n",
       "      <td>86.0</td>\n",
       "    </tr>\n",
       "    <tr>\n",
       "      <th>249</th>\n",
       "      <td>250</td>\n",
       "      <td>Laki-laki</td>\n",
       "      <td>120.0</td>\n",
       "      <td>98</td>\n",
       "      <td>15.0</td>\n",
       "    </tr>\n",
       "  </tbody>\n",
       "</table>\n",
       "<p>250 rows × 5 columns</p>\n",
       "</div>"
      ],
      "text/plain": [
       "     ID_pelanggan Jenis Kelamin   Umur  Pendapatan pertahun (juta)  \\\n",
       "0               1     Laki-laki   19.0                          15   \n",
       "1               2     Laki-laki   21.0                          15   \n",
       "2               3     Perempuan   20.0                          16   \n",
       "3               4     Perempuan   23.0                          16   \n",
       "4               5     Perempuan   31.0                          17   \n",
       "..            ...           ...    ...                         ...   \n",
       "245           246     Laki-laki   59.0                          93   \n",
       "246           247     Laki-laki   35.0                          93   \n",
       "247           248     Perempuan   37.0                          97   \n",
       "248           249     Perempuan   32.0                          97   \n",
       "249           250     Laki-laki  120.0                          98   \n",
       "\n",
       "     Skor Belanja (1-100)  \n",
       "0                    39.0  \n",
       "1                    81.0  \n",
       "2                     6.0  \n",
       "3                    77.0  \n",
       "4                    40.0  \n",
       "..                    ...  \n",
       "245                  14.0  \n",
       "246                  90.0  \n",
       "247                  32.0  \n",
       "248                  86.0  \n",
       "249                  15.0  \n",
       "\n",
       "[250 rows x 5 columns]"
      ]
     },
     "metadata": {},
     "output_type": "display_data"
    },
    {
     "name": "stdout",
     "output_type": "stream",
     "text": [
      "Data sesudah dihilangkan outliersnya\n"
     ]
    },
    {
     "data": {
      "text/html": [
       "<div>\n",
       "<style scoped>\n",
       "    .dataframe tbody tr th:only-of-type {\n",
       "        vertical-align: middle;\n",
       "    }\n",
       "\n",
       "    .dataframe tbody tr th {\n",
       "        vertical-align: top;\n",
       "    }\n",
       "\n",
       "    .dataframe thead th {\n",
       "        text-align: right;\n",
       "    }\n",
       "</style>\n",
       "<table border=\"1\" class=\"dataframe\">\n",
       "  <thead>\n",
       "    <tr style=\"text-align: right;\">\n",
       "      <th></th>\n",
       "      <th>ID_pelanggan</th>\n",
       "      <th>Jenis Kelamin</th>\n",
       "      <th>Umur</th>\n",
       "      <th>Pendapatan pertahun (juta)</th>\n",
       "      <th>Skor Belanja (1-100)</th>\n",
       "    </tr>\n",
       "  </thead>\n",
       "  <tbody>\n",
       "    <tr>\n",
       "      <th>0</th>\n",
       "      <td>1</td>\n",
       "      <td>Laki-laki</td>\n",
       "      <td>19.0</td>\n",
       "      <td>15.0</td>\n",
       "      <td>39.0</td>\n",
       "    </tr>\n",
       "    <tr>\n",
       "      <th>1</th>\n",
       "      <td>2</td>\n",
       "      <td>Laki-laki</td>\n",
       "      <td>21.0</td>\n",
       "      <td>15.0</td>\n",
       "      <td>81.0</td>\n",
       "    </tr>\n",
       "    <tr>\n",
       "      <th>2</th>\n",
       "      <td>3</td>\n",
       "      <td>Perempuan</td>\n",
       "      <td>20.0</td>\n",
       "      <td>16.0</td>\n",
       "      <td>6.0</td>\n",
       "    </tr>\n",
       "    <tr>\n",
       "      <th>3</th>\n",
       "      <td>4</td>\n",
       "      <td>Perempuan</td>\n",
       "      <td>23.0</td>\n",
       "      <td>16.0</td>\n",
       "      <td>77.0</td>\n",
       "    </tr>\n",
       "    <tr>\n",
       "      <th>4</th>\n",
       "      <td>5</td>\n",
       "      <td>Perempuan</td>\n",
       "      <td>31.0</td>\n",
       "      <td>17.0</td>\n",
       "      <td>40.0</td>\n",
       "    </tr>\n",
       "    <tr>\n",
       "      <th>...</th>\n",
       "      <td>...</td>\n",
       "      <td>...</td>\n",
       "      <td>...</td>\n",
       "      <td>...</td>\n",
       "      <td>...</td>\n",
       "    </tr>\n",
       "    <tr>\n",
       "      <th>245</th>\n",
       "      <td>246</td>\n",
       "      <td>Laki-laki</td>\n",
       "      <td>59.0</td>\n",
       "      <td>93.0</td>\n",
       "      <td>14.0</td>\n",
       "    </tr>\n",
       "    <tr>\n",
       "      <th>246</th>\n",
       "      <td>247</td>\n",
       "      <td>Laki-laki</td>\n",
       "      <td>35.0</td>\n",
       "      <td>93.0</td>\n",
       "      <td>90.0</td>\n",
       "    </tr>\n",
       "    <tr>\n",
       "      <th>247</th>\n",
       "      <td>248</td>\n",
       "      <td>Perempuan</td>\n",
       "      <td>37.0</td>\n",
       "      <td>97.0</td>\n",
       "      <td>32.0</td>\n",
       "    </tr>\n",
       "    <tr>\n",
       "      <th>248</th>\n",
       "      <td>249</td>\n",
       "      <td>Perempuan</td>\n",
       "      <td>32.0</td>\n",
       "      <td>97.0</td>\n",
       "      <td>86.0</td>\n",
       "    </tr>\n",
       "    <tr>\n",
       "      <th>249</th>\n",
       "      <td>250</td>\n",
       "      <td>Laki-laki</td>\n",
       "      <td>NaN</td>\n",
       "      <td>98.0</td>\n",
       "      <td>15.0</td>\n",
       "    </tr>\n",
       "  </tbody>\n",
       "</table>\n",
       "<p>250 rows × 5 columns</p>\n",
       "</div>"
      ],
      "text/plain": [
       "     ID_pelanggan Jenis Kelamin  Umur  Pendapatan pertahun (juta)  \\\n",
       "0               1     Laki-laki  19.0                        15.0   \n",
       "1               2     Laki-laki  21.0                        15.0   \n",
       "2               3     Perempuan  20.0                        16.0   \n",
       "3               4     Perempuan  23.0                        16.0   \n",
       "4               5     Perempuan  31.0                        17.0   \n",
       "..            ...           ...   ...                         ...   \n",
       "245           246     Laki-laki  59.0                        93.0   \n",
       "246           247     Laki-laki  35.0                        93.0   \n",
       "247           248     Perempuan  37.0                        97.0   \n",
       "248           249     Perempuan  32.0                        97.0   \n",
       "249           250     Laki-laki   NaN                        98.0   \n",
       "\n",
       "     Skor Belanja (1-100)  \n",
       "0                    39.0  \n",
       "1                    81.0  \n",
       "2                     6.0  \n",
       "3                    77.0  \n",
       "4                    40.0  \n",
       "..                    ...  \n",
       "245                  14.0  \n",
       "246                  90.0  \n",
       "247                  32.0  \n",
       "248                  86.0  \n",
       "249                  15.0  \n",
       "\n",
       "[250 rows x 5 columns]"
      ]
     },
     "metadata": {},
     "output_type": "display_data"
    }
   ],
   "source": [
    "df2 = df.copy()\n",
    "print(\"Data sebelum dihilangkan outliersnya\")\n",
    "display(df2)\n",
    "\n",
    "def remove_outliers(kolom, data):\n",
    "    q1 = data[kolom].quantile(0.25)\n",
    "    q3 = data[kolom].quantile(0.75)\n",
    "    iqr = q3 - q1\n",
    "    lower_bound = q1 - (iqr * 1.5)\n",
    "    upper_bound = q3 + (iqr * 1.5)\n",
    "    data[kolom] = data[(data[kolom] > lower_bound) & (data[kolom] < upper_bound)][kolom]\n",
    "\n",
    "remove_outliers('Umur', df2)\n",
    "remove_outliers('Pendapatan pertahun (juta)', df2)\n",
    "remove_outliers('Skor Belanja (1-100)', df2)\n",
    "\n",
    "print(\"Data sesudah dihilangkan outliersnya\")\n",
    "display(df2)"
   ]
  },
  {
   "cell_type": "code",
   "execution_count": 9,
   "metadata": {},
   "outputs": [
    {
     "data": {
      "text/html": [
       "<div>\n",
       "<style scoped>\n",
       "    .dataframe tbody tr th:only-of-type {\n",
       "        vertical-align: middle;\n",
       "    }\n",
       "\n",
       "    .dataframe tbody tr th {\n",
       "        vertical-align: top;\n",
       "    }\n",
       "\n",
       "    .dataframe thead th {\n",
       "        text-align: right;\n",
       "    }\n",
       "</style>\n",
       "<table border=\"1\" class=\"dataframe\">\n",
       "  <thead>\n",
       "    <tr style=\"text-align: right;\">\n",
       "      <th></th>\n",
       "      <th>ID_pelanggan</th>\n",
       "      <th>Jenis Kelamin</th>\n",
       "      <th>Umur</th>\n",
       "      <th>Pendapatan pertahun (juta)</th>\n",
       "      <th>Skor Belanja (1-100)</th>\n",
       "    </tr>\n",
       "  </thead>\n",
       "  <tbody>\n",
       "    <tr>\n",
       "      <th>0</th>\n",
       "      <td>1</td>\n",
       "      <td>Laki-laki</td>\n",
       "      <td>19.0</td>\n",
       "      <td>15.0</td>\n",
       "      <td>39.0</td>\n",
       "    </tr>\n",
       "    <tr>\n",
       "      <th>1</th>\n",
       "      <td>2</td>\n",
       "      <td>Laki-laki</td>\n",
       "      <td>21.0</td>\n",
       "      <td>15.0</td>\n",
       "      <td>81.0</td>\n",
       "    </tr>\n",
       "    <tr>\n",
       "      <th>2</th>\n",
       "      <td>3</td>\n",
       "      <td>Perempuan</td>\n",
       "      <td>20.0</td>\n",
       "      <td>16.0</td>\n",
       "      <td>6.0</td>\n",
       "    </tr>\n",
       "    <tr>\n",
       "      <th>3</th>\n",
       "      <td>4</td>\n",
       "      <td>Perempuan</td>\n",
       "      <td>23.0</td>\n",
       "      <td>16.0</td>\n",
       "      <td>77.0</td>\n",
       "    </tr>\n",
       "    <tr>\n",
       "      <th>4</th>\n",
       "      <td>5</td>\n",
       "      <td>Perempuan</td>\n",
       "      <td>31.0</td>\n",
       "      <td>17.0</td>\n",
       "      <td>40.0</td>\n",
       "    </tr>\n",
       "    <tr>\n",
       "      <th>...</th>\n",
       "      <td>...</td>\n",
       "      <td>...</td>\n",
       "      <td>...</td>\n",
       "      <td>...</td>\n",
       "      <td>...</td>\n",
       "    </tr>\n",
       "    <tr>\n",
       "      <th>241</th>\n",
       "      <td>245</td>\n",
       "      <td>Laki-laki</td>\n",
       "      <td>27.0</td>\n",
       "      <td>88.0</td>\n",
       "      <td>69.0</td>\n",
       "    </tr>\n",
       "    <tr>\n",
       "      <th>242</th>\n",
       "      <td>246</td>\n",
       "      <td>Laki-laki</td>\n",
       "      <td>59.0</td>\n",
       "      <td>93.0</td>\n",
       "      <td>14.0</td>\n",
       "    </tr>\n",
       "    <tr>\n",
       "      <th>243</th>\n",
       "      <td>247</td>\n",
       "      <td>Laki-laki</td>\n",
       "      <td>35.0</td>\n",
       "      <td>93.0</td>\n",
       "      <td>90.0</td>\n",
       "    </tr>\n",
       "    <tr>\n",
       "      <th>244</th>\n",
       "      <td>248</td>\n",
       "      <td>Perempuan</td>\n",
       "      <td>37.0</td>\n",
       "      <td>97.0</td>\n",
       "      <td>32.0</td>\n",
       "    </tr>\n",
       "    <tr>\n",
       "      <th>245</th>\n",
       "      <td>249</td>\n",
       "      <td>Perempuan</td>\n",
       "      <td>32.0</td>\n",
       "      <td>97.0</td>\n",
       "      <td>86.0</td>\n",
       "    </tr>\n",
       "  </tbody>\n",
       "</table>\n",
       "<p>246 rows × 5 columns</p>\n",
       "</div>"
      ],
      "text/plain": [
       "     ID_pelanggan Jenis Kelamin  Umur  Pendapatan pertahun (juta)  \\\n",
       "0               1     Laki-laki  19.0                        15.0   \n",
       "1               2     Laki-laki  21.0                        15.0   \n",
       "2               3     Perempuan  20.0                        16.0   \n",
       "3               4     Perempuan  23.0                        16.0   \n",
       "4               5     Perempuan  31.0                        17.0   \n",
       "..            ...           ...   ...                         ...   \n",
       "241           245     Laki-laki  27.0                        88.0   \n",
       "242           246     Laki-laki  59.0                        93.0   \n",
       "243           247     Laki-laki  35.0                        93.0   \n",
       "244           248     Perempuan  37.0                        97.0   \n",
       "245           249     Perempuan  32.0                        97.0   \n",
       "\n",
       "     Skor Belanja (1-100)  \n",
       "0                    39.0  \n",
       "1                    81.0  \n",
       "2                     6.0  \n",
       "3                    77.0  \n",
       "4                    40.0  \n",
       "..                    ...  \n",
       "241                  69.0  \n",
       "242                  14.0  \n",
       "243                  90.0  \n",
       "244                  32.0  \n",
       "245                  86.0  \n",
       "\n",
       "[246 rows x 5 columns]"
      ]
     },
     "execution_count": 9,
     "metadata": {},
     "output_type": "execute_result"
    }
   ],
   "source": [
    "df2 = df2.dropna().reset_index(drop=True)\n",
    "df2"
   ]
  },
  {
   "cell_type": "markdown",
   "metadata": {
    "id": "mpSdl95j_TVj"
   },
   "source": [
    "\n",
    "\n",
    "---\n",
    "\n",
    "\n",
    "\n",
    "---\n",
    "\n",
    "\n",
    "\n",
    "---\n",
    "\n"
   ]
  },
  {
   "cell_type": "markdown",
   "metadata": {
    "id": "YKODTt1z7XTq"
   },
   "source": [
    "# Soal 4. statistika Inferential\n",
    "\n",
    "\n",
    "\n",
    "*   Kita akan melakukan hipotesis terhadap 100 sample pengunjung Supermarket. Hipotesis awal adalah rata2 usia pengunjung supermarket di atas 35 tahun. Ujilah hipotesis tersebut dengan menggunakan teknik klasik (z-testing) dan probabilitas p-value)!\n",
    "*   Gunakan variabel dataframe hasil handling missing value dan outlier di no soal sebelumnya\n",
    "*   Untuk mempermudah perhitungan, ubahlah tipe data kolom Umur menjadi int dengan menggunakan methode .astype() baca dokumentasi https://pandas.pydata.org/pandas-docs/stable/reference/api/pandas.DataFrame.astype.html\n",
    "\n",
    "\n",
    "\n"
   ]
  },
  {
   "cell_type": "code",
   "execution_count": 10,
   "metadata": {
    "id": "vbbAAoRbZMz3"
   },
   "outputs": [
    {
     "data": {
      "text/html": [
       "<div>\n",
       "<style scoped>\n",
       "    .dataframe tbody tr th:only-of-type {\n",
       "        vertical-align: middle;\n",
       "    }\n",
       "\n",
       "    .dataframe tbody tr th {\n",
       "        vertical-align: top;\n",
       "    }\n",
       "\n",
       "    .dataframe thead th {\n",
       "        text-align: right;\n",
       "    }\n",
       "</style>\n",
       "<table border=\"1\" class=\"dataframe\">\n",
       "  <thead>\n",
       "    <tr style=\"text-align: right;\">\n",
       "      <th></th>\n",
       "      <th>ID_pelanggan</th>\n",
       "      <th>Jenis Kelamin</th>\n",
       "      <th>Umur</th>\n",
       "      <th>Pendapatan pertahun (juta)</th>\n",
       "      <th>Skor Belanja (1-100)</th>\n",
       "    </tr>\n",
       "  </thead>\n",
       "  <tbody>\n",
       "    <tr>\n",
       "      <th>67</th>\n",
       "      <td>69</td>\n",
       "      <td>Laki-laki</td>\n",
       "      <td>19</td>\n",
       "      <td>48.0</td>\n",
       "      <td>59.0</td>\n",
       "    </tr>\n",
       "    <tr>\n",
       "      <th>245</th>\n",
       "      <td>249</td>\n",
       "      <td>Perempuan</td>\n",
       "      <td>32</td>\n",
       "      <td>97.0</td>\n",
       "      <td>86.0</td>\n",
       "    </tr>\n",
       "    <tr>\n",
       "      <th>208</th>\n",
       "      <td>212</td>\n",
       "      <td>Laki-laki</td>\n",
       "      <td>25</td>\n",
       "      <td>77.0</td>\n",
       "      <td>12.0</td>\n",
       "    </tr>\n",
       "    <tr>\n",
       "      <th>222</th>\n",
       "      <td>226</td>\n",
       "      <td>Laki-laki</td>\n",
       "      <td>30</td>\n",
       "      <td>78.0</td>\n",
       "      <td>4.0</td>\n",
       "    </tr>\n",
       "    <tr>\n",
       "      <th>90</th>\n",
       "      <td>92</td>\n",
       "      <td>Laki-laki</td>\n",
       "      <td>18</td>\n",
       "      <td>59.0</td>\n",
       "      <td>41.0</td>\n",
       "    </tr>\n",
       "  </tbody>\n",
       "</table>\n",
       "</div>"
      ],
      "text/plain": [
       "     ID_pelanggan Jenis Kelamin  Umur  Pendapatan pertahun (juta)  \\\n",
       "67             69     Laki-laki    19                        48.0   \n",
       "245           249     Perempuan    32                        97.0   \n",
       "208           212     Laki-laki    25                        77.0   \n",
       "222           226     Laki-laki    30                        78.0   \n",
       "90             92     Laki-laki    18                        59.0   \n",
       "\n",
       "     Skor Belanja (1-100)  \n",
       "67                   59.0  \n",
       "245                  86.0  \n",
       "208                  12.0  \n",
       "222                   4.0  \n",
       "90                   41.0  "
      ]
     },
     "execution_count": 10,
     "metadata": {},
     "output_type": "execute_result"
    }
   ],
   "source": [
    "df_100 = df2.sample(100,  random_state=1)\n",
    "df_100[\"Umur\"] = df_100[\"Umur\"].astype('int32')\n",
    "df_100.head()"
   ]
  },
  {
   "cell_type": "code",
   "execution_count": 11,
   "metadata": {
    "id": "qvUBIRmLZT1o"
   },
   "outputs": [
    {
     "name": "stdout",
     "output_type": "stream",
     "text": [
      "Nilai z adalah\n",
      "2.4874107887154624\n",
      "Karena lebih dari Z0.05 = 1.65, maka Hipotesis null ditolak\n"
     ]
    }
   ],
   "source": [
    "#code here for z-test\n",
    "from scipy import stats\n",
    "from statsmodels.stats import weightstats as stests\n",
    "\n",
    "ztest, pval = stests.ztest(df_100['Umur'], value=35)\n",
    "\n",
    "print(\"Nilai z adalah\")\n",
    "print(ztest)\n",
    "if ztest > 1.65:\n",
    "    print(\"Karena lebih dari Z0.05 = 1.65, maka Hipotesis null ditolak\")\n",
    "else:\n",
    "    print(\"Karena kurang dari Z0.05 = 1.65, maka Hipotesis null diterima\")"
   ]
  },
  {
   "cell_type": "code",
   "execution_count": 12,
   "metadata": {
    "id": "DrlCfbiLZaEg"
   },
   "outputs": [
    {
     "name": "stdout",
     "output_type": "stream",
     "text": [
      "Nilai p adalah\n",
      "0.012867672183696988\n",
      "Karena kurang dari alpha = 0.05, maka Hipotesis null ditolak\n"
     ]
    }
   ],
   "source": [
    "#code here for p-value\n",
    "print(\"Nilai p adalah\")\n",
    "print(pval)\n",
    "if pval < 0.05:\n",
    "    print(\"Karena kurang dari alpha = 0.05, maka Hipotesis null ditolak\")\n",
    "else:\n",
    "    print(\"Karena lebih dari alpha = 0.05, maka Hipotesis null diterima\")"
   ]
  },
  {
   "cell_type": "markdown",
   "metadata": {
    "id": "oj7BlvbfZ50q"
   },
   "source": [
    "Give your analysis:"
   ]
  },
  {
   "cell_type": "markdown",
   "metadata": {
    "id": "ZE9OBuKxZ8Ei"
   },
   "source": [
    "Diketahui hipotesis tandingan (H1) adalah rata - rata pembeli > 35. Maka akan dicek nilai z untuk miu nol 35. Ketika diuji di dapat z = 2.4874107887154624 yang lebih besar dari z untuk nilai alpha atau kepercayaan 0.05 yang mana adalah 1.65. Sehingga hipotesis null ditolak. Sedangkan untuk nilai p-value didapat 0.012867672183696988 dan kurang dari 0.05 sehingga hipotesis null ditolak."
   ]
  },
  {
   "cell_type": "markdown",
   "metadata": {
    "id": "272__Q0-_H_E"
   },
   "source": [
    "\n",
    "\n",
    "---\n",
    "\n",
    "\n",
    "\n",
    "---\n",
    "\n",
    "\n",
    "\n",
    "---\n",
    "\n"
   ]
  },
  {
   "cell_type": "markdown",
   "metadata": {
    "id": "q4TB5nadDdp1"
   },
   "source": [
    "## Soal 5. EDA"
   ]
  },
  {
   "cell_type": "markdown",
   "metadata": {
    "id": "GQCd-O8ApvTE"
   },
   "source": [
    "Lakukan eksplorasi data analisis. Gunakan visualisasi distplot untuk melihat sebaran data dan histogram pada setiap kolom dataset awal sebelum dilakukan handling missing value maupun outlier"
   ]
  },
  {
   "cell_type": "code",
   "execution_count": 13,
   "metadata": {
    "id": "hd05FkWjZlKg"
   },
   "outputs": [
    {
     "data": {
      "image/png": "[encoded data removed]",
      "text/plain": [
       "<Figure size 864x432 with 4 Axes>"
      ]
     },
     "metadata": {
      "needs_background": "light"
     },
     "output_type": "display_data"
    }
   ],
   "source": [
    "#code here for univariate\n",
    "#Karena data sudah terlanjur di inplace, maka saya impor ulang\n",
    "df_lama = pd.read_csv('pelanggan_supermarket.csv')\n",
    "\n",
    "fig, ax = plt.subplots(nrows = 2, ncols = 3, figsize = (12,6))\n",
    "sns.distplot(ax = ax[0][0], x = df_lama['ID_pelanggan'], axlabel = 'ID_pelanggan')\n",
    "sns.distplot(ax = ax[0][1], x = df_lama['Umur'], axlabel = 'Umur')\n",
    "sns.distplot(ax = ax[0][2], x = df_lama['Pendapatan pertahun (juta)'], axlabel = 'Pendapatan pertahun (juta)')\n",
    "sns.distplot(ax = ax[1][0], x = df_lama['Skor Belanja (1-100)'], axlabel = 'Skor Belanja (1-100)')\n",
    "fig.delaxes(ax[1][1])\n",
    "fig.delaxes(ax[1][2])\n",
    "fig.tight_layout()\n",
    "plt.show()"
   ]
  },
  {
   "cell_type": "markdown",
   "metadata": {
    "id": "DGb_OjUXZ97i"
   },
   "source": [
    "Give your analysis:"
   ]
  },
  {
   "cell_type": "markdown",
   "metadata": {
    "id": "KCA7HSYtZ_7f"
   },
   "source": [
    "Dapat kita lihat bahwa kondisi data sebelum di handling missing value dan outliersnya tidak terdistribusi secara normal. Ada yang terlalu ke kiri atau ke kanan."
   ]
  },
  {
   "cell_type": "code",
   "execution_count": 14,
   "metadata": {
    "id": "5YOUs98yZnmE"
   },
   "outputs": [
    {
     "data": {
      "image/png": "[encoded data removed]",
      "text/plain": [
       "<Figure size 1008x432 with 2 Axes>"
      ]
     },
     "metadata": {
      "needs_background": "light"
     },
     "output_type": "display_data"
    }
   ],
   "source": [
    "#code here for bivariate\n",
    "databaru = df_lama.sort_values('Skor Belanja (1-100)', ascending = False)\n",
    "\n",
    "fig, ax = plt.subplots(2, figsize = (14, 6))\n",
    "sns.barplot(x = databaru['Jenis Kelamin'].head(), y = databaru['Skor Belanja (1-100)'].head(), \n",
    "            order = ['Perempuan', 'Laki-laki'], ax = ax[0])\n",
    "sns.barplot(x = databaru['Jenis Kelamin'].tail(), y = databaru['Skor Belanja (1-100)'].tail(), \n",
    "            order = ['Laki-laki', 'Perempuan'], ax = ax[1])\n",
    "ax[0].set_title('Top highest skor belanja')\n",
    "ax[1].set_title('Top lowest skor belanja')\n",
    "fig.tight_layout()\n",
    "plt.show()"
   ]
  },
  {
   "cell_type": "markdown",
   "metadata": {
    "id": "LuRzizmQaA7c"
   },
   "source": [
    "Give your analysis:"
   ]
  },
  {
   "cell_type": "markdown",
   "metadata": {
    "id": "o74RZcJdaDZA"
   },
   "source": [
    "Dapat kita lihat bahwa untuk distribusi nilai pada data tertinggi perempuan lebih baik dibandingkan dengan laki - laki. Sebaliknya dengan data terendah, laki - laki lebih baik dari perempuan"
   ]
  },
  {
   "cell_type": "code",
   "execution_count": 15,
   "metadata": {
    "id": "7J3b554fZqoy"
   },
   "outputs": [
    {
     "data": {
      "image/png": "[encoded data removed]",
      "text/plain": [
       "<Figure size 432x288 with 2 Axes>"
      ]
     },
     "metadata": {
      "needs_background": "light"
     },
     "output_type": "display_data"
    }
   ],
   "source": [
    "#code here for multivariate\n",
    "dataheat = df_lama.drop('Jenis Kelamin', axis = 1)\n",
    "sns.heatmap(dataheat.corr(), annot=True)\n",
    "plt.show()"
   ]
  },
  {
   "cell_type": "markdown",
   "metadata": {
    "id": "8S-A9RV5aEmB"
   },
   "source": [
    "Give your analysis:"
   ]
  },
  {
   "cell_type": "markdown",
   "metadata": {
    "id": "vrT3v9ZYaGXb"
   },
   "source": [
    "Hubungan antara umur dan skor belanja terlihat jauh mencolok ketimbang dengan data yang lain"
   ]
  },
  {
   "cell_type": "markdown",
   "metadata": {
    "id": "rvomcnVzWD90"
   },
   "source": [
    "**Expected output**\n",
    "\n",
    "Univariate plot\n",
    "\n",
    "![](https://drive.google.com/uc?id=12BSOah7WFzuOEJsKfsaNDw799zzqbDIs)\n",
    "\n",
    "Bivariate plot\n",
    "\n",
    "![](https://drive.google.com/uc?id=1JI_NM4Nr-ZN1aszv0m-iL46Qm0xNLFw3)\n",
    "\n",
    "Multivariate plot\n",
    "\n",
    "![](https://drive.google.com/uc?id=1TTXm3BjoqqwSGMGE1en9ZIJT53Wm5SFf)"
   ]
  },
  {
   "cell_type": "markdown",
   "metadata": {
    "id": "z2nJhKqNpryR"
   },
   "source": [
    "\n",
    "\n",
    "---\n",
    "\n",
    "---\n",
    "\n",
    "\n",
    "\n",
    "---\n",
    "\n",
    "\n",
    "\n"
   ]
  },
  {
   "cell_type": "markdown",
   "metadata": {
    "id": "AF0090RVqbyh"
   },
   "source": [
    "# Soal 6. Data scaling\n",
    "lakukan scaling data dengan menggunakan standarisasi untuk kolom Umur dan skor belanja saja tetapi menggunakan variabel dataframe setelah handling missing value dan outlier"
   ]
  },
  {
   "cell_type": "code",
   "execution_count": 16,
   "metadata": {
    "id": "NcQ-UGu1aKmg"
   },
   "outputs": [
    {
     "data": {
      "text/html": [
       "<div>\n",
       "<style scoped>\n",
       "    .dataframe tbody tr th:only-of-type {\n",
       "        vertical-align: middle;\n",
       "    }\n",
       "\n",
       "    .dataframe tbody tr th {\n",
       "        vertical-align: top;\n",
       "    }\n",
       "\n",
       "    .dataframe thead th {\n",
       "        text-align: right;\n",
       "    }\n",
       "</style>\n",
       "<table border=\"1\" class=\"dataframe\">\n",
       "  <thead>\n",
       "    <tr style=\"text-align: right;\">\n",
       "      <th></th>\n",
       "      <th>Umur</th>\n",
       "      <th>Skor Belanja (1-100)</th>\n",
       "    </tr>\n",
       "  </thead>\n",
       "  <tbody>\n",
       "    <tr>\n",
       "      <th>0</th>\n",
       "      <td>-1.455408</td>\n",
       "      <td>-0.396862</td>\n",
       "    </tr>\n",
       "    <tr>\n",
       "      <th>1</th>\n",
       "      <td>-1.305038</td>\n",
       "      <td>1.121236</td>\n",
       "    </tr>\n",
       "    <tr>\n",
       "      <th>2</th>\n",
       "      <td>-1.380223</td>\n",
       "      <td>-1.589654</td>\n",
       "    </tr>\n",
       "    <tr>\n",
       "      <th>3</th>\n",
       "      <td>-1.154669</td>\n",
       "      <td>0.976655</td>\n",
       "    </tr>\n",
       "    <tr>\n",
       "      <th>4</th>\n",
       "      <td>-0.553190</td>\n",
       "      <td>-0.360717</td>\n",
       "    </tr>\n",
       "    <tr>\n",
       "      <th>...</th>\n",
       "      <td>...</td>\n",
       "      <td>...</td>\n",
       "    </tr>\n",
       "    <tr>\n",
       "      <th>241</th>\n",
       "      <td>-0.853929</td>\n",
       "      <td>0.687493</td>\n",
       "    </tr>\n",
       "    <tr>\n",
       "      <th>242</th>\n",
       "      <td>1.551987</td>\n",
       "      <td>-1.300492</td>\n",
       "    </tr>\n",
       "    <tr>\n",
       "      <th>243</th>\n",
       "      <td>-0.252450</td>\n",
       "      <td>1.446542</td>\n",
       "    </tr>\n",
       "    <tr>\n",
       "      <th>244</th>\n",
       "      <td>-0.102080</td>\n",
       "      <td>-0.649879</td>\n",
       "    </tr>\n",
       "    <tr>\n",
       "      <th>245</th>\n",
       "      <td>-0.478005</td>\n",
       "      <td>1.301962</td>\n",
       "    </tr>\n",
       "  </tbody>\n",
       "</table>\n",
       "<p>246 rows × 2 columns</p>\n",
       "</div>"
      ],
      "text/plain": [
       "         Umur  Skor Belanja (1-100)\n",
       "0   -1.455408             -0.396862\n",
       "1   -1.305038              1.121236\n",
       "2   -1.380223             -1.589654\n",
       "3   -1.154669              0.976655\n",
       "4   -0.553190             -0.360717\n",
       "..        ...                   ...\n",
       "241 -0.853929              0.687493\n",
       "242  1.551987             -1.300492\n",
       "243 -0.252450              1.446542\n",
       "244 -0.102080             -0.649879\n",
       "245 -0.478005              1.301962\n",
       "\n",
       "[246 rows x 2 columns]"
      ]
     },
     "execution_count": 16,
     "metadata": {},
     "output_type": "execute_result"
    }
   ],
   "source": [
    "#code here\n",
    "from sklearn.preprocessing import StandardScaler\n",
    "cols = ['Umur', 'Skor Belanja (1-100)']\n",
    "scaler = StandardScaler()\n",
    "df_standard = scaler.fit_transform(df2[cols])\n",
    "df_standard = pd.DataFrame(df_standard, columns = cols)\n",
    "df_standard"
   ]
  },
  {
   "cell_type": "markdown",
   "metadata": {
    "id": "6_4IxEFEqwNp"
   },
   "source": [
    "\n",
    "\n",
    "---\n",
    "\n",
    "\n",
    "\n",
    "---\n",
    "\n",
    "\n",
    "\n",
    "---\n",
    "\n"
   ]
  },
  {
   "cell_type": "markdown",
   "metadata": {
    "id": "gPDw48Mmqx7n"
   },
   "source": [
    "# Soal 7. Clustering menggunakan k-menas\n",
    "\n",
    "*   Lakukan clustering menggunakan kmeans clustering dengan k =2, dan visualisasikan\n",
    "*   Gunakan Elbow method untuk menemukan jumlah k kluster yang tepat\n",
    "*   Gunakan k=3 (rekomendasi methode Elbow) lalu visualisasikan\n",
    "*   Hitung silhoutte Coefficient dari ke dua hasil prediksi klustering tersebut"
   ]
  },
  {
   "cell_type": "code",
   "execution_count": 17,
   "metadata": {
    "id": "MVrICKF8IERW"
   },
   "outputs": [
    {
     "data": {
      "image/png": "[encoded data removed]",
      "text/plain": [
       "<Figure size 864x576 with 1 Axes>"
      ]
     },
     "metadata": {
      "needs_background": "light"
     },
     "output_type": "display_data"
    }
   ],
   "source": [
    "#code here\n",
    "from sklearn.cluster import KMeans\n",
    "kmeans = KMeans(n_clusters = 2, random_state = 42).fit(df_standard)\n",
    "labels1 = kmeans.labels_\n",
    "\n",
    "new_df_standard = pd.DataFrame(df_standard, columns = df_standard.columns)\n",
    "new_df_standard['Label1'] = labels1\n",
    "\n",
    "plt.figure(figsize=(12, 8))\n",
    "plt.scatter(new_df_standard['Umur'][new_df_standard.Label1 == 0],\n",
    "           new_df_standard['Skor Belanja (1-100)'][new_df_standard.Label1 == 0],\n",
    "           c = 'blue', s = 100, edgecolor = 'green', linestyle = '-')\n",
    "plt.scatter(new_df_standard['Umur'][new_df_standard.Label1 == 1],\n",
    "           new_df_standard['Skor Belanja (1-100)'][new_df_standard.Label1 == 1],\n",
    "           c = 'red', s = 100, edgecolor = 'green', linestyle = '-')\n",
    "\n",
    "centers = kmeans.cluster_centers_\n",
    "plt.scatter(centers[:,0], centers[:, 1], c = 'black', s = 500)\n",
    "plt.xlabel('Umur')\n",
    "plt.ylabel('Skor Belanja (1-100)')\n",
    "plt.show()"
   ]
  },
  {
   "cell_type": "code",
   "execution_count": 18,
   "metadata": {
    "id": "7Ah0fMJSLlC6"
   },
   "outputs": [
    {
     "data": {
      "image/png": "[encoded data removed]",
      "text/plain": [
       "<Figure size 720x432 with 1 Axes>"
      ]
     },
     "metadata": {
      "needs_background": "light"
     },
     "output_type": "display_data"
    }
   ],
   "source": [
    "#code here\n",
    "wcss = []\n",
    "for i in range(1, 11):\n",
    "    kmeans_cek = KMeans(n_clusters = i, init = 'k-means++', random_state = 42)\n",
    "    kmeans_cek.fit(df_standard)\n",
    "    wcss.append(kmeans_cek.inertia_)\n",
    "\n",
    "plt.figure(figsize=(10,6))\n",
    "plt.plot(range(1,11), wcss)\n",
    "plt.title('Elbow Method')\n",
    "plt.xlabel('n_cluster')\n",
    "plt.ylabel('WCSS')\n",
    "plt.show()"
   ]
  },
  {
   "cell_type": "code",
   "execution_count": 19,
   "metadata": {
    "id": "QPOmJZyuaY_X"
   },
   "outputs": [
    {
     "data": {
      "image/png": "[encoded data removed]",
      "text/plain": [
       "<Figure size 864x576 with 1 Axes>"
      ]
     },
     "metadata": {
      "needs_background": "light"
     },
     "output_type": "display_data"
    }
   ],
   "source": [
    "#code here\n",
    "kmeans2 = KMeans(n_clusters = 3, random_state = 42).fit(df_standard)\n",
    "labels2 = kmeans2.labels_\n",
    "\n",
    "new_df_standard['Label2'] = labels2\n",
    "\n",
    "plt.figure(figsize=(12, 8))\n",
    "plt.scatter(new_df_standard['Umur'][new_df_standard.Label2 == 0],\n",
    "           new_df_standard['Skor Belanja (1-100)'][new_df_standard.Label2 == 0],\n",
    "           c = 'green', s = 100, edgecolor = 'green', linestyle = '-', label = '0')\n",
    "plt.scatter(new_df_standard['Umur'][new_df_standard.Label2 == 1],\n",
    "           new_df_standard['Skor Belanja (1-100)'][new_df_standard.Label2 == 1],\n",
    "           c = 'blue', s = 100, edgecolor = 'green', linestyle = '-', label = '1')\n",
    "plt.scatter(new_df_standard['Umur'][new_df_standard.Label2 == 2],\n",
    "           new_df_standard['Skor Belanja (1-100)'][new_df_standard.Label2 == 2],\n",
    "           c = 'red', s = 100, edgecolor = 'green', linestyle = '-', label = '2')\n",
    "\n",
    "centers2 = kmeans2.cluster_centers_\n",
    "plt.scatter(centers2[:,0], centers2[:, 1], c = 'black', s = 500)\n",
    "plt.xlabel('Umur')\n",
    "plt.ylabel('Skor Belanja (1-100)')\n",
    "plt.legend()\n",
    "plt.show()"
   ]
  },
  {
   "cell_type": "markdown",
   "metadata": {
    "id": "ffhO8oUcXYy4"
   },
   "source": [
    "**Expected output**\n",
    "\n",
    "cluster 2\n",
    "\n",
    "![](https://drive.google.com/uc?id=1L7nIskGXbeXGhKOzhMWCykJ4jY5538mn)\n",
    "\n",
    "elbow method\n",
    "\n",
    "![](https://drive.google.com/uc?id=1a3OL9FhiQ2-DyJQ8sg8PNzfS9QsszyvU)\n",
    "\n",
    "cluster 3\n",
    "\n",
    "![](https://drive.google.com/uc?id=1UR6vK36oLJinLPtechjJJBtxifmdFOSn)\n"
   ]
  },
  {
   "cell_type": "code",
   "execution_count": 20,
   "metadata": {
    "id": "tDBLnR3fI2RL"
   },
   "outputs": [
    {
     "name": "stdout",
     "output_type": "stream",
     "text": [
      "Untuk Percobaan 1, Silhoutte Score adalah :\n",
      "0.5789377291670639\n",
      "Untuk Percobaan 2, Silhoutte Score adalah :\n",
      "0.565316564884038\n"
     ]
    }
   ],
   "source": [
    "#silhoutte score\n",
    "from sklearn.metrics import silhouette_score\n",
    "print('Untuk Percobaan 1, Silhoutte Score adalah :')\n",
    "print(silhouette_score(new_df_standard, labels = labels1))\n",
    "print('Untuk Percobaan 2, Silhoutte Score adalah :')\n",
    "print(silhouette_score(new_df_standard, labels = labels2))"
   ]
  },
  {
   "cell_type": "markdown",
   "metadata": {
    "id": "oGcs5qxga1dX"
   },
   "source": [
    "\n",
    "\n",
    "---\n",
    "\n",
    "\n",
    "\n",
    "---\n",
    "\n",
    "\n",
    "\n",
    "---\n",
    "\n"
   ]
  },
  {
   "cell_type": "markdown",
   "metadata": {
    "id": "b8JnapLFa3Da"
   },
   "source": [
    "# Soal 8. Analyze clustering result"
   ]
  },
  {
   "cell_type": "markdown",
   "metadata": {
    "id": "HmBZU5_qa-JE"
   },
   "source": [
    "Dari hasil klustering diatas, buatlah sebuah analisa segmentasi pelanggan untuk targetted market supermarket"
   ]
  },
  {
   "cell_type": "markdown",
   "metadata": {
    "id": "MLEmUen3bGLS"
   },
   "source": [
    "Terdapat tiga macam kelompok. Kelompok pertama adalah kelompok 0 yang merupakan mereka yang memiliki usia kurang dari setengah dari umur maksimal dan memiliki nilai skor belanja tinggi. Kelompok 1 mirip seperti kelompok 0 hanya saja skor belanja rendah. Sedangkan kelompok 2 adalah golongan dengan usia yang lebih tua dan skor rendah."
   ]
  }
 ],
 "metadata": {
  "colab": {
   "collapsed_sections": [],
   "name": "Tugas pekan 4 PKS digital.ipynb",
   "provenance": []
  },
  "kernelspec": {
   "display_name": "Python 3",
   "language": "python",
   "name": "python3"
  },
  "language_info": {
   "codemirror_mode": {
    "name": "ipython",
    "version": 3
   },
   "file_extension": ".py",
   "mimetype": "text/x-python",
   "name": "python",
   "nbconvert_exporter": "python",
   "pygments_lexer": "ipython3",
   "version": "3.8.5"
  }
 },
 "nbformat": 4,
 "nbformat_minor": 1
}
